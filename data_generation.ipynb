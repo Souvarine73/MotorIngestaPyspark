{
 "cells": [
  {
   "cell_type": "code",
   "execution_count": 1,
   "metadata": {},
   "outputs": [
    {
     "name": "stdout",
     "output_type": "stream",
     "text": [
      "+-----+---+------+--------+-------+\n",
      "| name|age|height|    city|country|\n",
      "+-----+---+------+--------+-------+\n",
      "| John| 30|   1.8|New York|    USA|\n",
      "|Smith| 40|  1.75|  London|     UK|\n",
      "| Sara| 25|  1.68|   Tokyo|  Japan|\n",
      "|Maria| 35|  1.65|  Madrid|  Spain|\n",
      "| Chen| 28|  1.72| Beijing|  China|\n",
      "|Abdul| 33|  1.78|   Dubai|    UAE|\n",
      "+-----+---+------+--------+-------+\n",
      "\n",
      "root\n",
      " |-- name: string (nullable = true)\n",
      " |-- age: long (nullable = true)\n",
      " |-- height: double (nullable = true)\n",
      " |-- city: string (nullable = true)\n",
      " |-- country: string (nullable = true)\n",
      "\n"
     ]
    }
   ],
   "source": [
    "from pyspark.sql import SparkSession\n",
    "from pyspark.sql import Row\n",
    "from pyspark.sql import DataFrame\n",
    "\n",
    "\n",
    "spark = SparkSession.builder.appName(\"Crear DataFrame\").getOrCreate()\n",
    "\n",
    "# Crea una lista de Rows\n",
    "data = [\n",
    "    Row(name=\"John\", age=30, height=1.80, city=\"New York\", country=\"USA\"),\n",
    "    Row(name=\"Smith\", age=40, height=1.75, city=\"London\", country=\"UK\"),\n",
    "    Row(name=\"Sara\", age=25, height=1.68, city=\"Tokyo\", country=\"Japan\"),\n",
    "    Row(name=\"Maria\", age=35, height=1.65, city=\"Madrid\", country=\"Spain\"),\n",
    "    Row(name=\"Chen\", age=28, height=1.72, city=\"Beijing\", country=\"China\"),\n",
    "    Row(name=\"Abdul\", age=33, height=1.78, city=\"Dubai\", country=\"UAE\")\n",
    "]\n",
    "\n",
    "# Crea un DataFrame a partir de la lista de Rows\n",
    "df = spark.createDataFrame(data).coalesce(1)\n",
    "# Muestra el DataFrame\n",
    "df.show()\n",
    "df.printSchema()"
   ]
  },
  {
   "cell_type": "code",
   "execution_count": 2,
   "metadata": {},
   "outputs": [],
   "source": [
    "\n",
    "def write_in_landing(df: DataFrame, formato: str, path:str) -> None:\n",
    "    # Escribe el DataFrame a un archivo CSV\n",
    "    df.write.format(formato).mode(\"append\").option(\"header\", True).save(path)"
   ]
  },
  {
   "cell_type": "code",
   "execution_count": 3,
   "metadata": {},
   "outputs": [],
   "source": [
    "formatos = [\"csv\", \"json\", \"parquet\"]\n",
    "\n",
    "for formato in formatos:\n",
    "    path = f\"landing/{formato}\"\n",
    "    write_in_landing(df, formato, path)"
   ]
  }
 ],
 "metadata": {
  "kernelspec": {
   "display_name": ".venv",
   "language": "python",
   "name": "python3"
  },
  "language_info": {
   "codemirror_mode": {
    "name": "ipython",
    "version": 3
   },
   "file_extension": ".py",
   "mimetype": "text/x-python",
   "name": "python",
   "nbconvert_exporter": "python",
   "pygments_lexer": "ipython3",
   "version": "3.10.11"
  }
 },
 "nbformat": 4,
 "nbformat_minor": 2
}
